{
 "cells": [
  {
   "cell_type": "markdown",
   "id": "64692b64",
   "metadata": {},
   "source": [
    "# Spacy"
   ]
  },
  {
   "cell_type": "code",
   "execution_count": 1,
   "id": "27be8483",
   "metadata": {},
   "outputs": [],
   "source": [
    "import spacy"
   ]
  },
  {
   "cell_type": "code",
   "execution_count": 3,
   "id": "8538ba36",
   "metadata": {},
   "outputs": [],
   "source": [
    "nlp = spacy.load(\"fr_core_news_sm\")"
   ]
  },
  {
   "cell_type": "code",
   "execution_count": 4,
   "id": "e32dec67",
   "metadata": {},
   "outputs": [],
   "source": [
    "txt=\"Bien sur, je sais pas si ca va etre une bon’e evolution ou pas. Comme toutes les innovations d’ailleurs, mais bon le fait est que j’en reste pas moins excité pour autant.Je comprends la crainte des gens , normal d’ailleurs ( j’avoue que ca me fait flipper aussi)\""
   ]
  },
  {
   "cell_type": "code",
   "execution_count": 5,
   "id": "4a3e8b6c",
   "metadata": {},
   "outputs": [
    {
     "data": {
      "text/plain": [
       "'Bien sur, je sais pas si ca va etre une bon’e evolution ou pas. Comme toutes les innovations d’ailleurs, mais bon le fait est que j’en reste pas moins excité pour autant.Je comprends la crainte des gens , normal d’ailleurs ( j’avoue que ca me fait flipper aussi)'"
      ]
     },
     "execution_count": 5,
     "metadata": {},
     "output_type": "execute_result"
    }
   ],
   "source": [
    "txt"
   ]
  },
  {
   "cell_type": "code",
   "execution_count": 6,
   "id": "d0f797af",
   "metadata": {},
   "outputs": [
    {
     "data": {
      "text/plain": [
       "['tok2vec', 'morphologizer', 'parser', 'attribute_ruler', 'lemmatizer', 'ner']"
      ]
     },
     "execution_count": 6,
     "metadata": {},
     "output_type": "execute_result"
    }
   ],
   "source": [
    "nlp.pipe_names"
   ]
  },
  {
   "cell_type": "code",
   "execution_count": 7,
   "id": "064c4e4d",
   "metadata": {},
   "outputs": [],
   "source": [
    "doc = nlp(txt)"
   ]
  },
  {
   "cell_type": "code",
   "execution_count": 13,
   "id": "057b0954",
   "metadata": {},
   "outputs": [
    {
     "name": "stdout",
     "output_type": "stream",
     "text": [
      "Bien ADV advmod\n",
      "sur ADP fixed\n",
      ", PUNCT punct\n",
      "je PRON nsubj\n",
      "sais VERB ROOT\n",
      "pas ADV advmod\n",
      "si SCONJ mark\n",
      "ca PRON nsubj\n",
      "va VERB ccomp\n",
      "etre VERB xcomp\n",
      "une DET det\n",
      "bon’ PROPN obj\n",
      "e NOUN nmod\n",
      "evolution NOUN amod\n",
      "ou CCONJ cc\n",
      "pas ADV conj\n",
      ". PUNCT punct\n",
      "Comme ADP case\n",
      "toutes ADJ amod\n",
      "les DET det\n",
      "innovations NOUN obl:mod\n",
      "d’ ADV acl\n",
      "ailleurs ADV advmod\n",
      ", PUNCT punct\n",
      "mais CCONJ cc\n",
      "bon ADJ advmod\n",
      "le DET det\n",
      "fait NOUN nsubj\n",
      "est VERB cop\n",
      "que SCONJ mark\n",
      "j’ PROPN nsubj\n",
      "en PRON iobj\n",
      "reste VERB ROOT\n",
      "pas ADV advmod\n",
      "moins ADV advmod\n",
      "excité NOUN xcomp\n",
      "pour ADP case\n",
      "autant ADV advmod\n",
      ". PUNCT punct\n",
      "Je PRON nsubj\n",
      "comprends VERB ROOT\n",
      "la DET det\n",
      "crainte NOUN obj\n",
      "des ADP case\n",
      "gens NOUN nmod\n",
      ", PUNCT punct\n",
      "normal ADJ amod\n",
      "d’ ADV advmod\n",
      "ailleurs ADV advmod\n",
      "( PUNCT punct\n",
      "j’ ADV nsubj\n",
      "avoue VERB advcl\n",
      "que SCONJ mark\n",
      "ca PRON expl:subj\n",
      "me PRON iobj\n",
      "fait AUX dep\n",
      "flipper VERB ccomp\n",
      "aussi ADV advmod\n",
      ") PUNCT punct\n"
     ]
    }
   ],
   "source": [
    "for d in doc:\n",
    "    print(d, d.pos_,  d.dep_)"
   ]
  },
  {
   "cell_type": "code",
   "execution_count": 14,
   "id": "7851708a",
   "metadata": {},
   "outputs": [
    {
     "data": {
      "text/plain": [
       "Bien"
      ]
     },
     "execution_count": 14,
     "metadata": {},
     "output_type": "execute_result"
    }
   ],
   "source": [
    "doc[0]"
   ]
  },
  {
   "cell_type": "code",
   "execution_count": null,
   "id": "97e97559",
   "metadata": {},
   "outputs": [],
   "source": []
  }
 ],
 "metadata": {
  "kernelspec": {
   "display_name": "Python 3",
   "language": "python",
   "name": "python3"
  },
  "language_info": {
   "codemirror_mode": {
    "name": "ipython",
    "version": 3
   },
   "file_extension": ".py",
   "mimetype": "text/x-python",
   "name": "python",
   "nbconvert_exporter": "python",
   "pygments_lexer": "ipython3",
   "version": "3.8.5"
  }
 },
 "nbformat": 4,
 "nbformat_minor": 5
}
