{
 "cells": [
  {
   "cell_type": "markdown",
   "id": "e04bfc73",
   "metadata": {},
   "source": [
    "# Spacy"
   ]
  },
  {
   "cell_type": "code",
   "execution_count": 1,
   "id": "62cd6ab5",
   "metadata": {},
   "outputs": [],
   "source": [
    "import spacy"
   ]
  },
  {
   "cell_type": "code",
   "execution_count": 3,
   "id": "a9a4ca40",
   "metadata": {},
   "outputs": [],
   "source": [
    "nlp = spacy.load(\"fr_core_news_sm\")"
   ]
  },
  {
   "cell_type": "code",
   "execution_count": 4,
   "id": "5194a838",
   "metadata": {},
   "outputs": [],
   "source": [
    "txt=\"Bien sur, je sais pas si ca va etre une bon’e evolution ou pas. Comme toutes les innovations d’ailleurs, mais bon le fait est que j’en reste pas moins excité pour autant.Je comprends la crainte des gens , normal d’ailleurs ( j’avoue que ca me fait flipper aussi)\""
   ]
  },
  {
   "cell_type": "code",
   "execution_count": 5,
   "id": "849581a3",
   "metadata": {},
   "outputs": [
    {
     "data": {
      "text/plain": [
       "'Bien sur, je sais pas si ca va etre une bon’e evolution ou pas. Comme toutes les innovations d’ailleurs, mais bon le fait est que j’en reste pas moins excité pour autant.Je comprends la crainte des gens , normal d’ailleurs ( j’avoue que ca me fait flipper aussi)'"
      ]
     },
     "execution_count": 5,
     "metadata": {},
     "output_type": "execute_result"
    }
   ],
   "source": [
    "txt"
   ]
  },
  {
   "cell_type": "code",
   "execution_count": 6,
   "id": "5225af40",
   "metadata": {},
   "outputs": [
    {
     "data": {
      "text/plain": [
       "['tok2vec', 'morphologizer', 'parser', 'attribute_ruler', 'lemmatizer', 'ner']"
      ]
     },
     "execution_count": 6,
     "metadata": {},
     "output_type": "execute_result"
    }
   ],
   "source": [
    "nlp.pipe_names"
   ]
  },
  {
   "cell_type": "code",
   "execution_count": 7,
   "id": "e37ba3dc",
   "metadata": {},
   "outputs": [],
   "source": [
    "doc = nlp(txt)"
   ]
  },
  {
   "cell_type": "code",
   "execution_count": 13,
   "id": "36b72aec",
   "metadata": {},
   "outputs": [
    {
     "name": "stdout",
     "output_type": "stream",
     "text": [
      "Bien ADV advmod\n",
      "sur ADP fixed\n",
      ", PUNCT punct\n",
      "je PRON nsubj\n",
      "sais VERB ROOT\n",
      "pas ADV advmod\n",
      "si SCONJ mark\n",
      "ca PRON nsubj\n",
      "va VERB ccomp\n",
      "etre VERB xcomp\n",
      "une DET det\n",
      "bon’ PROPN obj\n",
      "e NOUN nmod\n",
      "evolution NOUN amod\n",
      "ou CCONJ cc\n",
      "pas ADV conj\n",
      ". PUNCT punct\n",
      "Comme ADP case\n",
      "toutes ADJ amod\n",
      "les DET det\n",
      "innovations NOUN obl:mod\n",
      "d’ ADV acl\n",
      "ailleurs ADV advmod\n",
      ", PUNCT punct\n",
      "mais CCONJ cc\n",
      "bon ADJ advmod\n",
      "le DET det\n",
      "fait NOUN nsubj\n",
      "est VERB cop\n",
      "que SCONJ mark\n",
      "j’ PROPN nsubj\n",
      "en PRON iobj\n",
      "reste VERB ROOT\n",
      "pas ADV advmod\n",
      "moins ADV advmod\n",
      "excité NOUN xcomp\n",
      "pour ADP case\n",
      "autant ADV advmod\n",
      ". PUNCT punct\n",
      "Je PRON nsubj\n",
      "comprends VERB ROOT\n",
      "la DET det\n",
      "crainte NOUN obj\n",
      "des ADP case\n",
      "gens NOUN nmod\n",
      ", PUNCT punct\n",
      "normal ADJ amod\n",
      "d’ ADV advmod\n",
      "ailleurs ADV advmod\n",
      "( PUNCT punct\n",
      "j’ ADV nsubj\n",
      "avoue VERB advcl\n",
      "que SCONJ mark\n",
      "ca PRON expl:subj\n",
      "me PRON iobj\n",
      "fait AUX dep\n",
      "flipper VERB ccomp\n",
      "aussi ADV advmod\n",
      ") PUNCT punct\n"
     ]
    }
   ],
   "source": [
    "for d in doc:\n",
    "    print(d, d.pos_,  d.dep_)"
   ]
  },
  {
   "cell_type": "code",
   "execution_count": 20,
   "id": "4e6cc64b",
   "metadata": {},
   "outputs": [
    {
     "name": "stdout",
     "output_type": "stream",
     "text": [
      "Bien sur, je sais pas si ca va etre une bon’e evolution ou pas.\n",
      "Comme toutes les innovations d’ailleurs, mais bon le fait est que j’en reste pas moins excité pour autant.\n",
      "Je comprends la crainte des gens , normal d’ailleurs ( j’avoue que ca me fait flipper aussi)\n"
     ]
    }
   ],
   "source": [
    "for ent in doc.sents:\n",
    "    print(ent)"
   ]
  },
  {
   "cell_type": "code",
   "execution_count": 31,
   "id": "6cd000f9",
   "metadata": {},
   "outputs": [
    {
     "data": {
      "text/html": [
       "<span class=\"tex2jax_ignore\"><div class=\"entities\" style=\"line-height: 2.5; direction: ltr\">Bien sur, je sais pas si ca va etre une bon’e evolution ou pas. </div></span>"
      ],
      "text/plain": [
       "<IPython.core.display.HTML object>"
      ]
     },
     "metadata": {},
     "output_type": "display_data"
    },
    {
     "name": "stdout",
     "output_type": "stream",
     "text": [
      "None\n"
     ]
    },
    {
     "data": {
      "text/html": [
       "<span class=\"tex2jax_ignore\"><div class=\"entities\" style=\"line-height: 2.5; direction: ltr\">Comme toutes les innovations d’ailleurs, mais bon le fait est que \n",
       "<mark class=\"entity\" style=\"background: #ddd; padding: 0.45em 0.6em; margin: 0 0.25em; line-height: 1; border-radius: 0.35em;\">\n",
       "    j’\n",
       "    <span style=\"font-size: 0.8em; font-weight: bold; line-height: 1; border-radius: 0.35em; vertical-align: middle; margin-left: 0.5rem\">MISC</span>\n",
       "</mark>\n",
       "en reste pas moins excité pour autant.</div></span>"
      ],
      "text/plain": [
       "<IPython.core.display.HTML object>"
      ]
     },
     "metadata": {},
     "output_type": "display_data"
    },
    {
     "name": "stdout",
     "output_type": "stream",
     "text": [
      "None\n"
     ]
    },
    {
     "data": {
      "text/html": [
       "<span class=\"tex2jax_ignore\"><div class=\"entities\" style=\"line-height: 2.5; direction: ltr\">Je comprends la crainte des gens , normal d’ailleurs ( \n",
       "<mark class=\"entity\" style=\"background: #7aecec; padding: 0.45em 0.6em; margin: 0 0.25em; line-height: 1; border-radius: 0.35em;\">\n",
       "    j’\n",
       "    <span style=\"font-size: 0.8em; font-weight: bold; line-height: 1; border-radius: 0.35em; vertical-align: middle; margin-left: 0.5rem\">ORG</span>\n",
       "</mark>\n",
       "avoue que ca me fait flipper aussi)</div></span>"
      ],
      "text/plain": [
       "<IPython.core.display.HTML object>"
      ]
     },
     "metadata": {},
     "output_type": "display_data"
    },
    {
     "name": "stdout",
     "output_type": "stream",
     "text": [
      "None\n"
     ]
    }
   ],
   "source": [
    "from spacy import displacy\n",
    "for sent in doc.sents:\n",
    "    print(displacy.render(sent, style='ent'))"
   ]
  },
  {
   "cell_type": "code",
   "execution_count": 32,
   "id": "bdff7654",
   "metadata": {},
   "outputs": [
    {
     "ename": "TypeError",
     "evalue": "'generator' object is not subscriptable",
     "output_type": "error",
     "traceback": [
      "\u001b[1;31m---------------------------------------------------------------------------\u001b[0m",
      "\u001b[1;31mTypeError\u001b[0m                                 Traceback (most recent call last)",
      "\u001b[1;32m<ipython-input-32-0ae6c5c7b51e>\u001b[0m in \u001b[0;36m<module>\u001b[1;34m\u001b[0m\n\u001b[1;32m----> 1\u001b[1;33m \u001b[0mdisplacy\u001b[0m\u001b[1;33m.\u001b[0m\u001b[0mrender\u001b[0m\u001b[1;33m(\u001b[0m\u001b[0mdoc\u001b[0m\u001b[1;33m.\u001b[0m\u001b[0msents\u001b[0m\u001b[1;33m[\u001b[0m\u001b[1;36m0\u001b[0m\u001b[1;33m]\u001b[0m\u001b[1;33m,\u001b[0m \u001b[0mstyle\u001b[0m\u001b[1;33m=\u001b[0m\u001b[1;34m\"dep\"\u001b[0m\u001b[1;33m)\u001b[0m\u001b[1;33m\u001b[0m\u001b[1;33m\u001b[0m\u001b[0m\n\u001b[0m",
      "\u001b[1;31mTypeError\u001b[0m: 'generator' object is not subscriptable"
     ]
    }
   ],
   "source": [
    "displacy.render(doc.sents[0], style=\"dep\")"
   ]
  },
  {
   "cell_type": "code",
   "execution_count": null,
   "id": "88864bae",
   "metadata": {},
   "outputs": [],
   "source": []
  }
 ],
 "metadata": {
  "kernelspec": {
   "display_name": "Python 3",
   "language": "python",
   "name": "python3"
  },
  "language_info": {
   "codemirror_mode": {
    "name": "ipython",
    "version": 3
   },
   "file_extension": ".py",
   "mimetype": "text/x-python",
   "name": "python",
   "nbconvert_exporter": "python",
   "pygments_lexer": "ipython3",
   "version": "3.8.5"
  }
 },
 "nbformat": 4,
 "nbformat_minor": 5
}
